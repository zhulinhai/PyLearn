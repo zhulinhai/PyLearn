{
 "metadata": {
  "language_info": {
   "codemirror_mode": {
    "name": "ipython",
    "version": 3
   },
   "file_extension": ".py",
   "mimetype": "text/x-python",
   "name": "python",
   "nbconvert_exporter": "python",
   "pygments_lexer": "ipython3",
   "version": "3.7.4-final"
  },
  "orig_nbformat": 2,
  "kernelspec": {
   "name": "python37432bit8454b6b220304c4cb3da9b12f850f688",
   "display_name": "Python 3.7.4 32-bit"
  }
 },
 "nbformat": 4,
 "nbformat_minor": 2,
 "cells": [
  {
   "cell_type": "code",
   "execution_count": 1,
   "metadata": {},
   "outputs": [],
   "source": [
    "import sqlite3"
   ]
  },
  {
   "cell_type": "code",
   "execution_count": 2,
   "metadata": {},
   "outputs": [],
   "source": [
    "query = \"\"\"\n",
    "CREATE TABLE test\n",
    "(a VARCHAR(20), b VARCHAR(20),\n",
    "C REAL, d INTEGER\n",
    ");\"\"\""
   ]
  },
  {
   "cell_type": "code",
   "execution_count": 3,
   "metadata": {},
   "outputs": [],
   "source": [
    "con = sqlite3.connect('mydata.sqlite')"
   ]
  },
  {
   "cell_type": "code",
   "execution_count": 9,
   "metadata": {},
   "outputs": [],
   "source": [
    "import pandas as pd"
   ]
  },
  {
   "cell_type": "code",
   "execution_count": 10,
   "metadata": {},
   "outputs": [],
   "source": [
    "ages = [20, 22, 25, 27, 21, 23, 37, 31, 61, 45, 41, 32]"
   ]
  },
  {
   "cell_type": "code",
   "execution_count": 11,
   "metadata": {},
   "outputs": [],
   "source": [
    "bins = [18, 25, 35, 60, 100]"
   ]
  },
  {
   "cell_type": "code",
   "execution_count": 12,
   "metadata": {},
   "outputs": [],
   "source": [
    "cats = pd.cut(ages, bins)"
   ]
  },
  {
   "cell_type": "code",
   "execution_count": 13,
   "metadata": {},
   "outputs": [
    {
     "output_type": "execute_result",
     "data": {
      "text/plain": "[(18, 25], (18, 25], (18, 25], (25, 35], (18, 25], ..., (25, 35], (60, 100], (35, 60], (35, 60], (25, 35]]\nLength: 12\nCategories (4, interval[int64]): [(18, 25] < (25, 35] < (35, 60] < (60, 100]]"
     },
     "metadata": {},
     "execution_count": 13
    }
   ],
   "source": [
    "cats"
   ]
  },
  {
   "cell_type": "code",
   "execution_count": 14,
   "metadata": {},
   "outputs": [
    {
     "output_type": "execute_result",
     "data": {
      "text/plain": "array([0, 0, 0, 1, 0, 0, 2, 1, 3, 2, 2, 1], dtype=int8)"
     },
     "metadata": {},
     "execution_count": 14
    }
   ],
   "source": [
    "cats.codes"
   ]
  },
  {
   "cell_type": "code",
   "execution_count": 15,
   "metadata": {},
   "outputs": [
    {
     "output_type": "execute_result",
     "data": {
      "text/plain": "IntervalIndex([(18, 25], (25, 35], (35, 60], (60, 100]],\n              closed='right',\n              dtype='interval[int64]')"
     },
     "metadata": {},
     "execution_count": 15
    }
   ],
   "source": [
    "cats.categories"
   ]
  },
  {
   "cell_type": "code",
   "execution_count": 16,
   "metadata": {},
   "outputs": [
    {
     "output_type": "execute_result",
     "data": {
      "text/plain": "(18, 25]     5\n(35, 60]     3\n(25, 35]     3\n(60, 100]    1\ndtype: int64"
     },
     "metadata": {},
     "execution_count": 16
    }
   ],
   "source": [
    "pd.value_counts(cats)"
   ]
  },
  {
   "cell_type": "code",
   "execution_count": 19,
   "metadata": {},
   "outputs": [],
   "source": [
    "group_names = ['Youth', 'YoungAdult', 'MiddleAged', 'Senior']"
   ]
  },
  {
   "cell_type": "code",
   "execution_count": 20,
   "metadata": {},
   "outputs": [
    {
     "output_type": "execute_result",
     "data": {
      "text/plain": "[Youth, Youth, Youth, YoungAdult, Youth, ..., YoungAdult, Senior, MiddleAged, MiddleAged, YoungAdult]\nLength: 12\nCategories (4, object): [Youth < YoungAdult < MiddleAged < Senior]"
     },
     "metadata": {},
     "execution_count": 20
    }
   ],
   "source": [
    "pd.cut(ages, bins, labels=group_names)"
   ]
  },
  {
   "cell_type": "code",
   "execution_count": 22,
   "metadata": {},
   "outputs": [],
   "source": [
    "import numpy as np"
   ]
  },
  {
   "cell_type": "code",
   "execution_count": 23,
   "metadata": {},
   "outputs": [],
   "source": [
    "data = np.random.rand(20)"
   ]
  },
  {
   "cell_type": "code",
   "execution_count": 24,
   "metadata": {},
   "outputs": [
    {
     "output_type": "execute_result",
     "data": {
      "text/plain": "[(0.044, 0.25], (0.67, 0.87], (0.25, 0.46], (0.044, 0.25], (0.25, 0.46], ..., (0.46, 0.67], (0.46, 0.67], (0.25, 0.46], (0.46, 0.67], (0.67, 0.87]]\nLength: 20\nCategories (4, interval[float64]): [(0.044, 0.25] < (0.25, 0.46] < (0.46, 0.67] < (0.67, 0.87]]"
     },
     "metadata": {},
     "execution_count": 24
    }
   ],
   "source": [
    " pd.cut(data, 4, precision=2)"
   ]
  },
  {
   "cell_type": "code",
   "execution_count": 25,
   "metadata": {},
   "outputs": [],
   "source": [
    "data = np.random.randn(1000) # Normally distributed"
   ]
  },
  {
   "cell_type": "code",
   "execution_count": 26,
   "metadata": {},
   "outputs": [],
   "source": [
    "# 检测和过滤异常值"
   ]
  },
  {
   "cell_type": "code",
   "execution_count": 27,
   "metadata": {},
   "outputs": [],
   "source": [
    "data = pd.DataFrame(np.random.randn(1000, 4))"
   ]
  },
  {
   "cell_type": "code",
   "execution_count": 28,
   "metadata": {},
   "outputs": [
    {
     "output_type": "execute_result",
     "data": {
      "text/plain": "                 0            1            2            3\ncount  1000.000000  1000.000000  1000.000000  1000.000000\nmean      0.030373    -0.011246    -0.080979     0.019452\nstd       0.988721     0.974725     0.974547     1.002858\nmin      -3.010448    -2.578848    -3.363585    -3.127294\n25%      -0.595455    -0.675929    -0.754306    -0.671257\n50%       0.045209    -0.036016    -0.086902    -0.023148\n75%       0.695782     0.651165     0.559311     0.715102\nmax       2.640875     2.852952     3.104654     3.224522",
      "text/html": "<div>\n<style scoped>\n    .dataframe tbody tr th:only-of-type {\n        vertical-align: middle;\n    }\n\n    .dataframe tbody tr th {\n        vertical-align: top;\n    }\n\n    .dataframe thead th {\n        text-align: right;\n    }\n</style>\n<table border=\"1\" class=\"dataframe\">\n  <thead>\n    <tr style=\"text-align: right;\">\n      <th></th>\n      <th>0</th>\n      <th>1</th>\n      <th>2</th>\n      <th>3</th>\n    </tr>\n  </thead>\n  <tbody>\n    <tr>\n      <th>count</th>\n      <td>1000.000000</td>\n      <td>1000.000000</td>\n      <td>1000.000000</td>\n      <td>1000.000000</td>\n    </tr>\n    <tr>\n      <th>mean</th>\n      <td>0.030373</td>\n      <td>-0.011246</td>\n      <td>-0.080979</td>\n      <td>0.019452</td>\n    </tr>\n    <tr>\n      <th>std</th>\n      <td>0.988721</td>\n      <td>0.974725</td>\n      <td>0.974547</td>\n      <td>1.002858</td>\n    </tr>\n    <tr>\n      <th>min</th>\n      <td>-3.010448</td>\n      <td>-2.578848</td>\n      <td>-3.363585</td>\n      <td>-3.127294</td>\n    </tr>\n    <tr>\n      <th>25%</th>\n      <td>-0.595455</td>\n      <td>-0.675929</td>\n      <td>-0.754306</td>\n      <td>-0.671257</td>\n    </tr>\n    <tr>\n      <th>50%</th>\n      <td>0.045209</td>\n      <td>-0.036016</td>\n      <td>-0.086902</td>\n      <td>-0.023148</td>\n    </tr>\n    <tr>\n      <th>75%</th>\n      <td>0.695782</td>\n      <td>0.651165</td>\n      <td>0.559311</td>\n      <td>0.715102</td>\n    </tr>\n    <tr>\n      <th>max</th>\n      <td>2.640875</td>\n      <td>2.852952</td>\n      <td>3.104654</td>\n      <td>3.224522</td>\n    </tr>\n  </tbody>\n</table>\n</div>"
     },
     "metadata": {},
     "execution_count": 28
    }
   ],
   "source": [
    "data.describe()"
   ]
  },
  {
   "cell_type": "code",
   "execution_count": 29,
   "metadata": {},
   "outputs": [
    {
     "output_type": "execute_result",
     "data": {
      "text/plain": "            0         1         2         3\n205 -0.363387  0.103797  0.373732  3.224522\n233 -0.592970 -0.460655  3.094514 -1.026869\n243 -1.245360 -0.866055 -0.491530 -3.025894\n653  0.161039 -0.301452  0.335556  3.026104\n723 -1.562585  0.750300 -3.363585 -0.484416\n876  0.873659 -0.178040 -0.100998 -3.127294\n899 -3.010448 -0.355300 -0.644045 -0.903558\n968 -0.195530 -2.089936  0.185979  3.020149\n997  0.564415 -1.359394  3.104654 -1.184414",
      "text/html": "<div>\n<style scoped>\n    .dataframe tbody tr th:only-of-type {\n        vertical-align: middle;\n    }\n\n    .dataframe tbody tr th {\n        vertical-align: top;\n    }\n\n    .dataframe thead th {\n        text-align: right;\n    }\n</style>\n<table border=\"1\" class=\"dataframe\">\n  <thead>\n    <tr style=\"text-align: right;\">\n      <th></th>\n      <th>0</th>\n      <th>1</th>\n      <th>2</th>\n      <th>3</th>\n    </tr>\n  </thead>\n  <tbody>\n    <tr>\n      <th>205</th>\n      <td>-0.363387</td>\n      <td>0.103797</td>\n      <td>0.373732</td>\n      <td>3.224522</td>\n    </tr>\n    <tr>\n      <th>233</th>\n      <td>-0.592970</td>\n      <td>-0.460655</td>\n      <td>3.094514</td>\n      <td>-1.026869</td>\n    </tr>\n    <tr>\n      <th>243</th>\n      <td>-1.245360</td>\n      <td>-0.866055</td>\n      <td>-0.491530</td>\n      <td>-3.025894</td>\n    </tr>\n    <tr>\n      <th>653</th>\n      <td>0.161039</td>\n      <td>-0.301452</td>\n      <td>0.335556</td>\n      <td>3.026104</td>\n    </tr>\n    <tr>\n      <th>723</th>\n      <td>-1.562585</td>\n      <td>0.750300</td>\n      <td>-3.363585</td>\n      <td>-0.484416</td>\n    </tr>\n    <tr>\n      <th>876</th>\n      <td>0.873659</td>\n      <td>-0.178040</td>\n      <td>-0.100998</td>\n      <td>-3.127294</td>\n    </tr>\n    <tr>\n      <th>899</th>\n      <td>-3.010448</td>\n      <td>-0.355300</td>\n      <td>-0.644045</td>\n      <td>-0.903558</td>\n    </tr>\n    <tr>\n      <th>968</th>\n      <td>-0.195530</td>\n      <td>-2.089936</td>\n      <td>0.185979</td>\n      <td>3.020149</td>\n    </tr>\n    <tr>\n      <th>997</th>\n      <td>0.564415</td>\n      <td>-1.359394</td>\n      <td>3.104654</td>\n      <td>-1.184414</td>\n    </tr>\n  </tbody>\n</table>\n</div>"
     },
     "metadata": {},
     "execution_count": 29
    }
   ],
   "source": [
    "data[(np.abs(data) > 3).any(1)]"
   ]
  },
  {
   "cell_type": "code",
   "execution_count": 30,
   "metadata": {},
   "outputs": [],
   "source": [
    "data[np.abs(data) > 3] = np.sign(data) * 3"
   ]
  },
  {
   "cell_type": "code",
   "execution_count": 31,
   "metadata": {},
   "outputs": [
    {
     "output_type": "execute_result",
     "data": {
      "text/plain": "                 0            1            2            3\ncount  1000.000000  1000.000000  1000.000000  1000.000000\nmean      0.030384    -0.011246    -0.080815     0.019335\nstd       0.988689     0.974725     0.972747     1.001556\nmin      -3.000000    -2.578848    -3.000000    -3.000000\n25%      -0.595455    -0.675929    -0.754306    -0.671257\n50%       0.045209    -0.036016    -0.086902    -0.023148\n75%       0.695782     0.651165     0.559311     0.715102\nmax       2.640875     2.852952     3.000000     3.000000",
      "text/html": "<div>\n<style scoped>\n    .dataframe tbody tr th:only-of-type {\n        vertical-align: middle;\n    }\n\n    .dataframe tbody tr th {\n        vertical-align: top;\n    }\n\n    .dataframe thead th {\n        text-align: right;\n    }\n</style>\n<table border=\"1\" class=\"dataframe\">\n  <thead>\n    <tr style=\"text-align: right;\">\n      <th></th>\n      <th>0</th>\n      <th>1</th>\n      <th>2</th>\n      <th>3</th>\n    </tr>\n  </thead>\n  <tbody>\n    <tr>\n      <th>count</th>\n      <td>1000.000000</td>\n      <td>1000.000000</td>\n      <td>1000.000000</td>\n      <td>1000.000000</td>\n    </tr>\n    <tr>\n      <th>mean</th>\n      <td>0.030384</td>\n      <td>-0.011246</td>\n      <td>-0.080815</td>\n      <td>0.019335</td>\n    </tr>\n    <tr>\n      <th>std</th>\n      <td>0.988689</td>\n      <td>0.974725</td>\n      <td>0.972747</td>\n      <td>1.001556</td>\n    </tr>\n    <tr>\n      <th>min</th>\n      <td>-3.000000</td>\n      <td>-2.578848</td>\n      <td>-3.000000</td>\n      <td>-3.000000</td>\n    </tr>\n    <tr>\n      <th>25%</th>\n      <td>-0.595455</td>\n      <td>-0.675929</td>\n      <td>-0.754306</td>\n      <td>-0.671257</td>\n    </tr>\n    <tr>\n      <th>50%</th>\n      <td>0.045209</td>\n      <td>-0.036016</td>\n      <td>-0.086902</td>\n      <td>-0.023148</td>\n    </tr>\n    <tr>\n      <th>75%</th>\n      <td>0.695782</td>\n      <td>0.651165</td>\n      <td>0.559311</td>\n      <td>0.715102</td>\n    </tr>\n    <tr>\n      <th>max</th>\n      <td>2.640875</td>\n      <td>2.852952</td>\n      <td>3.000000</td>\n      <td>3.000000</td>\n    </tr>\n  </tbody>\n</table>\n</div>"
     },
     "metadata": {},
     "execution_count": 31
    }
   ],
   "source": [
    "data.describe()"
   ]
  },
  {
   "cell_type": "code",
   "execution_count": 32,
   "metadata": {},
   "outputs": [
    {
     "output_type": "execute_result",
     "data": {
      "text/plain": "     0    1    2    3\n0 -1.0 -1.0 -1.0  1.0\n1 -1.0 -1.0 -1.0  1.0\n2  1.0  1.0 -1.0  1.0\n3 -1.0 -1.0 -1.0  1.0\n4 -1.0 -1.0 -1.0  1.0",
      "text/html": "<div>\n<style scoped>\n    .dataframe tbody tr th:only-of-type {\n        vertical-align: middle;\n    }\n\n    .dataframe tbody tr th {\n        vertical-align: top;\n    }\n\n    .dataframe thead th {\n        text-align: right;\n    }\n</style>\n<table border=\"1\" class=\"dataframe\">\n  <thead>\n    <tr style=\"text-align: right;\">\n      <th></th>\n      <th>0</th>\n      <th>1</th>\n      <th>2</th>\n      <th>3</th>\n    </tr>\n  </thead>\n  <tbody>\n    <tr>\n      <th>0</th>\n      <td>-1.0</td>\n      <td>-1.0</td>\n      <td>-1.0</td>\n      <td>1.0</td>\n    </tr>\n    <tr>\n      <th>1</th>\n      <td>-1.0</td>\n      <td>-1.0</td>\n      <td>-1.0</td>\n      <td>1.0</td>\n    </tr>\n    <tr>\n      <th>2</th>\n      <td>1.0</td>\n      <td>1.0</td>\n      <td>-1.0</td>\n      <td>1.0</td>\n    </tr>\n    <tr>\n      <th>3</th>\n      <td>-1.0</td>\n      <td>-1.0</td>\n      <td>-1.0</td>\n      <td>1.0</td>\n    </tr>\n    <tr>\n      <th>4</th>\n      <td>-1.0</td>\n      <td>-1.0</td>\n      <td>-1.0</td>\n      <td>1.0</td>\n    </tr>\n  </tbody>\n</table>\n</div>"
     },
     "metadata": {},
     "execution_count": 32
    }
   ],
   "source": [
    "np.sign(data).head()"
   ]
  },
  {
   "cell_type": "code",
   "execution_count": null,
   "metadata": {},
   "outputs": [],
   "source": []
  }
 ]
}