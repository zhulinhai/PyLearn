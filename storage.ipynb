{
 "nbformat": 4,
 "nbformat_minor": 2,
 "metadata": {
  "language_info": {
   "name": "python",
   "codemirror_mode": {
    "name": "ipython",
    "version": 3
   },
   "version": "3.7.4-final"
  },
  "orig_nbformat": 2,
  "file_extension": ".py",
  "mimetype": "text/x-python",
  "name": "python",
  "npconvert_exporter": "python",
  "pygments_lexer": "ipython3",
  "version": 3,
  "kernelspec": {
   "name": "python37432bit8454b6b220304c4cb3da9b12f850f688",
   "display_name": "Python 3.7.4 32-bit"
  }
 },
 "cells": [
  {
   "source": [
    "import requests\n",
    "\n",
    "url = 'https://api.github.com/repos/pandas-dev/pandas/issues'"
   ],
   "cell_type": "code",
   "outputs": [],
   "metadata": {},
   "execution_count": 4
  },
  {
   "source": [
    "resp = requests.get(url)"
   ],
   "cell_type": "code",
   "outputs": [],
   "metadata": {},
   "execution_count": 5
  },
  {
   "source": [
    "resp"
   ],
   "cell_type": "code",
   "outputs": [
    {
     "output_type": "execute_result",
     "data": {
      "text/plain": "<Response [200]>"
     },
     "metadata": {},
     "execution_count": 6
    }
   ],
   "metadata": {},
   "execution_count": 6
  },
  {
   "source": [
    "data = resp.json()"
   ],
   "cell_type": "code",
   "outputs": [],
   "metadata": {},
   "execution_count": 7
  },
  {
   "source": [
    "data"
   ],
   "cell_type": "code",
   "outputs": [
    {
     "output_type": "execute_result",
     "data": {
      "text/plain": "range(len(idx))}, index=idx)\\r\\ndf\\r\\ndf.info()\\r\\n```\\r\\n\\r\\n`df` output:\\r\\n```\\r\\n                           count\\r\\n2020-01-15 01:03:05.000        0\\r\\n2020-01-15 01:03:05.001        1\\r\\n2020-01-15 01:03:05.002        2\\r\\n2020-01-15 01:03:05.003        3\\r\\n2020-01-15 01:03:05.004        4\\r\\n...                          ...\\r\\n2020-01-15 01:19:44.999   999999\\r\\n2020-01-15 01:19:45.000  1000000\\r\\n2020-01-15 01:19:45.001  1000001\\r\\n2020-01-15 01:19:45.002  1000002\\r\\n2020-01-15 01:19:45.003  1000003\\r\\n```\\r\\n\\r\\n`df.info()` output:\\r\\n```\\r\\n<class \\'pandas.core.frame.DataFrame\\'>\\r\\nDatetimeIndex: 1000004 entries, 2020-01-15 01:03:05 to 2020-01-15 01:19:45.003000\\r\\nFreq: L\\r\\nData columns (total 1 columns):\\r\\ncount    1000004 non-null int64\\r\\ndtypes: int64(1)\\r\\nmemory usage: 15.3 MB\\r\\n```\\r\\n\\r\\nThis PR fixes possible errors within the description: `\"DatetimeIndex: ... entries, `*date_a*` to `*date_b* output, where *date_a* and *date_b* should respectively show minimum and maximum date range values.\\r\\n'},\n {'url': 'https://api.github.com/repos/pandas-dev/pandas/issues/31068',\n  'repository_url': 'https://api.github.com/repos/pandas-dev/pandas',\n  'labels_url': 'https://api.github.com/repos/pandas-dev/pandas/issues/31068/labels{/name}',\n  'comments_url': 'https://api.github.com/repos/pandas-dev/pandas/issues/31068/comments',\n  'events_url': 'https://api.github.com/repos/pandas-dev/pandas/issues/31068/events',\n  'html_url': 'https://github.com/pandas-dev/pandas/issues/31068',\n  'id': 550646149,\n  'node_id': 'MDU6SXNzdWU1NTA2NDYxNDk=',\n  'number': 31068,\n  'title': 'REGR: MultiIndex level names RuntimeError in groupby.apply',\n  'user': {'login': 'jorisvandenbossche',\n   'id': 1020496,\n   'node_id': 'MDQ6VXNlcjEwMjA0OTY=',\n   'avatar_url': 'https://avatars2.githubusercontent.com/u/1020496?v=4',\n   'gravatar_id': '',\n   'url': 'https://api.github.com/users/jorisvandenbossche',\n   'html_url': 'https://github.com/jorisvandenbossche',\n   'followers_url': 'https://api.github.com/users/jorisvandenbossche/followers',\n   'following_url': 'https://api.github.com/users/jorisvandenbossche/following{/other_user}',\n   'gists_url': 'https://api.github.com/users/jorisvandenbossche/gists{/gist_id}',\n   'starred_url': 'https://api.github.com/users/jorisvandenbossche/starred{/owner}{/repo}',\n   'subscriptions_url': 'https://api.github.com/users/jorisvandenbossche/subscriptions',\n   'organizations_url': 'https://api.github.com/users/jorisvandenbossche/orgs',\n   'repos_url': 'https://api.github.com/users/jorisvandenbossche/repos',\n   'events_url': 'https://api.github.com/users/jorisvandenbossche/events{/privacy}',\n   'received_events_url': 'https://api.github.com/users/jorisvandenbossche/received_events',\n   'type': 'User',\n   'site_admin': False},\n  'labels': [{'id': 233160,\n    'node_id': 'MDU6TGFiZWwyMzMxNjA=',\n    'url': 'https://api.github.com/repos/pandas-dev/pandas/labels/Groupby',\n    'name': 'Groupby',\n    'color': '729FCF',\n    'default': False,\n    'description': None},\n   {'id': 71268330,\n    'node_id': 'MDU6TGFiZWw3MTI2ODMzMA==',\n    'url': 'https://api.github.com/repos/pandas-dev/pandas/labels/MultiIndex',\n    'name': 'MultiIndex',\n    'color': '207de5',\n    'default': False,\n    'description': None},\n   {'id': 32815646,\n    'node_id': 'MDU6TGFiZWwzMjgxNTY0Ng==',\n    'url': 'https://api.github.com/repos/pandas-dev/pandas/labels/Regression',\n    'name': 'Regression',\n    'color': 'e11d21',\n    'default': False,\n    'description': None}],\n  'state': 'open',\n  'locked': False,\n  'assignee': None,\n  'assignees': [],\n  'milestone': {'url': 'https://api.github.com/repos/pandas-dev/pandas/milestones/16',\n   'html_url': 'https://github.com/pandas-dev/pandas/milestone/16',\n   'labels_url': 'https://api.github.com/repos/pandas-dev/pandas/milestones/16/labels',\n   'id': 174211,\n   'node_id': 'MDk6TWlsZXN0b25lMTc0MjEx',\n   'number': 16,\n   'title': '1.0.0',\n   'description': 'on-merge: backport to 1.0.x',\n   'creator': {'login': 'wesm',\n    'id': 329591,\n    'node_id': 'MDQ6VXNlcjMyOTU5MQ==',\n    'avatar_url': 'https://avatars2.githubusercontent.com/u/329591?v=4',\n    'gravatar_id': '',\n    'url': 'https://api.github.com/users/wesm',\n    'html_url': 'https://github.com/wesm',\n    'followers_url': 'https://api.github.com/users/wesm/followers',\n    'following_url': 'https://api.github.com/users/wesm/following{/other_user}',\n    'gists_url': 'https://api.github.com/users/wesm/gists{/gist_id}',\n    'starred_url': 'https://api.github.com/users/wesm/starred{/owner}{/repo}',\n    'subscriptions_url': 'https://api.github.com/users/wesm/subscriptions',\n    'organizations_url': 'https://api.github.com/users/wesm/orgs',\n    'repos_url': 'https://api.github.com/users/wesm/repos',\n    'events_url': 'https://api.github.com/users/wesm/events{/privacy}',\n    'received_events_url': 'https://api.github.com/users/wesm/received_events',\n    'type': 'User',\n    'site_admin': False},\n   'open_issues': 29,\n   'closed_issues': 2094,\n   'state': 'open',\n   'created_at': '2012-09-13T02:13:00Z',\n   'updated_at': '2020-01-17T08:09:10Z',\n   'due_on': '2020-02-01T08:00:00Z',\n   'closed_at': None},\n  'comments': 0,\n  'created_at': '2020-01-16T08:17:55Z',\n  'updated_at': '2020-01-16T08:19:59Z',\n  'closed_at': None,\n  'author_association': 'MEMBER',\n  'body': '```\\r\\ndf = pd.DataFrame({\\r\\n    \\'A\\': np.arange(10), \\'B\\': [1, 2] * 5, \\r\\n    \\'C\\': np.random.rand(10), \\'D\\': np.random.rand(10)}\\r\\n).set_index([\\'A\\', \\'B\\'])  \\r\\ndf.groupby(\\'B\\').apply(lambda x: x.sum())\\r\\n```\\r\\n\\r\\nOn master this gives an error:\\r\\n```\\r\\nIn [40]: df.groupby(\\'B\\').apply(lambda x: x.sum())\\r\\n---------------------------------------------------------------------------\\r\\nRuntimeError                              Traceback (most recent call last)\\r\\n<ipython-input-40-75bc1ff12251> in <module>\\r\\n----> 1 df.groupby(\\'B\\').apply(lambda x: x.sum())\\r\\n\\r\\n~/scipy/pandas/pandas/core/groupby/groupby.py in apply(self, func, *args, **kwargs)\\r\\n    733         with option_context(\"mode.chained_assignment\", None):\\r\\n    734             try:\\r\\n--> 735                 result = self._python_apply_general(f)\\r\\n    736             except TypeError:\\r\\n    737                 # gh-20949\\r\\n\\r\\n~/scipy/pandas/pandas/core/groupby/groupby.py in _python_apply_general(self, f)\\r\\n    752 \\r\\n    753         return self._wrap_applied_output(\\r\\n--> 754             keys, values, not_indexed_same=mutated or self.mutated\\r\\n    755         )\\r\\n    756 \\r\\n\\r\\n~/scipy/pandas/pandas/core/groupby/generic.py in _wrap_applied_output(self, keys, values, not_indexed_same)\\r\\n   1200                 if len(keys) == ping.ngroups:\\r\\n   1201                     key_index = ping.group_index\\r\\n-> 1202                     key_index.name = key_names[0]\\r\\n   1203 \\r\\n   1204                     key_lookup = Index(keys)\\r\\n\\r\\n~/scipy/pandas/pandas/core/indexes/base.py in name(self, value)\\r\\n   1171             # Used in MultiIndex.levels to avoid silently ignoring name updates.\\r\\n   1172             raise RuntimeError(\\r\\n-> 1173                 \"Cannot set name on a level of a MultiIndex. Use \"\\r\\n   1174                 \"\\'MultiIndex.set_names\\' instead.\"\\r\\n   1175             )\\r\\n\\r\\nRuntimeError: Cannot set name on a level of a MultiIndex. Use \\'MultiIndex.set_names\\' instead.\\r\\n```\\r\\n\\r\\nOn 0.25.3 this works:\\r\\n\\r\\n```\\r\\nIn [10]:  df.groupby(\\'B\\').apply(lambda x: x.sum()) \\r\\nOut[10]: \\r\\n          C         D\\r\\nB                    \\r\\n1  2.761792  3.963817\\r\\n2  1.040950  3.578762\\r\\n```\\r\\n\\r\\nIt seems the additional MultiIndex level that is not used to group ([\\'A\\', \\'B\\'] are index levels, but only grouping by \\'B\\').'},\n {'url': 'https://api.github.com/repos/pandas-dev/pandas/issues/31066',\n  'repository_url': 'https://api.github.com/repos/pandas-dev/pandas',\n  'labels_url': 'https://api.github.com/repos/pandas-dev/pandas/issues/31066/labels{/name}',\n  'comments_url': 'https://api.github.com/repos/pandas-dev/pandas/issues/31066/comments',\n  'events_url': 'https://api.github.com/repos/pandas-dev/pandas/issues/31066/events',\n  'html_url': 'https://github.com/pandas-dev/pandas/pull/31066',\n  'id': 550586616,\n  'node_id': 'MDExOlB1bGxSZXF1ZXN0MzYzNDY1NjY1',\n  'number': 31066,\n  'title': 'DOC: add plotting backends in visualization.rst',\n  'user': {'login': 'rushabh-v',\n   'id': 46084304,\n   'node_id': 'MDQ6VXNlcjQ2MDg0MzA0',\n   'avatar_url': 'https://avatars3.githubusercontent.com/u/46084304?v=4',\n   'gravatar_id': '',\n   'url': 'https://api.github.com/users/rushabh-v',\n   'html_url': 'https://github.com/rushabh-v',\n   'followers_url': 'https://api.github.com/users/rushabh-v/followers',\n   'following_url': 'https://api.github.com/users/rushabh-v/following{/other_user}',\n   'gists_url': 'https://api.github.com/users/rushabh-v/gists{/gist_id}',\n   'starred_url': 'https://api.github.com/users/rushabh-v/starred{/owner}{/repo}',\n   'subscriptions_url': 'https://api.github.com/users/rushabh-v/subscriptions',\n   'organizations_url': 'https://api.github.com/users/rushabh-v/orgs',\n   'repos_url': 'https://api.github.com/users/rushabh-v/repos',\n   'events_url': 'https://api.github.com/users/rushabh-v/events{/privacy}',\n   'received_events_url': 'https://api.github.com/users/rushabh-v/received_events',\n   'type': 'User',\n   'site_admin': False},\n  'labels': [{'id': 134699,\n    'node_id': 'MDU6TGFiZWwxMzQ2OTk=',\n    'url': 'https://api.github.com/repos/pandas-dev/pandas/labels/Docs',\n    'name': 'Docs',\n    'color': '3465A4',\n    'default': False,\n    'description': None}],\n  'state': 'open',\n  'locked': False,\n  'assignee': None,\n  'assignees': [],\n  'milestone': None,\n  'comments': 3,\n  'created_at': '2020-01-16T05:40:06Z',\n  'updated_at': '2020-01-16T20:37:01Z',\n  'closed_at': None,\n  'author_association': 'CONTRIBUTOR',\n  'pull_request': {'url': 'https://api.github.com/repos/pandas-dev/pandas/pulls/31066',\n   'html_url': 'https://github.com/pandas-dev/pandas/pull/31066',\n   'diff_url': 'https://github.com/pandas-dev/pandas/pull/31066.diff',\n   'patch_url': 'https://github.com/pandas-dev/pandas/pull/31066.patch'},\n  'body': '- [x] closes #30984 \\r\\n'},\n {'url': 'https://api.github.com/repos/pandas-dev/pandas/issues/31064',\n  'repository_url': 'https://api.github.com/repos/pandas-dev/pandas',\n  'labels_url': 'https://api.github.com/repos/pandas-dev/pandas/issues/31064/labels{/name}',\n  'comments_url': 'https://api.github.com/repos/pandas-dev/pandas/issues/31064/comments',\n  'events_url': 'https://api.github.com/repos/pandas-dev/pandas/issues/31064/events',\n  'html_url': 'https://github.com/pandas-dev/pandas/pull/31064',\n  'id': 550567899,\n  'node_id': 'MDExOlB1bGxSZXF1ZXN0MzYzNDUwNDU4',\n  'number': 31064,\n  'title': 'BUG: partial-timestamp slicing near the end of year/quarter/month',\n  'user': {'login': 'jbrockmendel',\n   'id': 8078968,\n   'node_id': 'MDQ6VXNlcjgwNzg5Njg=',\n   'avatar_url': 'https://avatars1.githubusercontent.com/u/8078968?v=4',\n   'gravatar_id': '',\n   'url': 'https://api.github.com/users/jbrockmendel',\n   'html_url': 'https://github.com/jbrockmendel',\n   'followers_url': 'https://api.github.com/users/jbrockmendel/followers',\n   'following_url': 'https://api.github.com/users/jbrockmendel/following{/other_user}',\n   'gists_url': 'https://api.github.com/users/jbrockmendel/gists{/gist_id}',\n   'starred_url': 'https://api.github.com/users/jbrockmendel/starred{/owner}{/repo}',\n   'subscriptions_url': 'https://api.github.com/users/jbrockmendel/subscriptions',\n   'organizations_url': 'https://api.github.com/users/jbrockmendel/orgs',\n   'repos_url': 'https://api.github.com/users/jbrockmendel/repos',\n   'events_url': 'https://api.github.com/users/jbrockmendel/events{/privacy}',\n   'received_events_url': 'https://api.github.com/users/jbrockmendel/received_events',\n   'type': 'User',\n   'site_admin': False},\n  'labels': [{'id': 49597148,\n    'node_id': 'MDU6TGFiZWw0OTU5NzE0OA==',\n    'url': 'https://api.github.com/repos/pandas-dev/pandas/labels/Timedelta',\n    'name': 'Timedelta',\n    'color': '5319e7',\n    'default': False,\n    'description': None}],\n  'state': 'open',\n  'locked': False,\n  'assignee': None,\n  'assignees': [],\n  'milestone': None,\n  'comments': 0,\n  'created_at': '2020-01-16T04:33:04Z',\n  'updated_at': '2020-01-16T19:52:07Z',\n  'closed_at': None,\n  'author_association': 'MEMBER',\n  'pull_request': {'url': 'https://api.github.com/repos/pandas-dev/pandas/pulls/31064',\n   'html_url': 'https://github.com/pandas-dev/pandas/pull/31064',\n   'diff_url': 'https://github.com/pandas-dev/pandas/pull/31064.diff',\n   'patch_url': 'https://github.com/pandas-dev/pandas/pull/31064.patch'},\n  'body': 'I\\'m fairly confident we can refactor this to be a lot less verbose, but will do that separately from the bugfix.\\r\\n\\r\\n- [ ] closes #xxxx\\r\\n- [x] tests added / passed\\r\\n- [x] passes `black pandas`\\r\\n- [x] passes `git diff upstream/master -u -- \"*.py\" | flake8 --diff`\\r\\n- [x] whatsnew entry\\r\\n'},\n {'url': 'https://api.github.com/repos/pandas-dev/pandas/issues/31063',\n  'repository_url': 'https://api.github.com/repos/pandas-dev/pandas',\n  'labels_url': 'https://api.github.com/repos/pandas-dev/pandas/issues/31063/labels{/name}',\n  'comments_url': 'https://api.github.com/repos/pandas-dev/pandas/issues/31063/comments',\n  'events_url': 'https://api.github.com/repos/pandas-dev/pandas/issues/31063/events',\n  'html_url': 'https://github.com/pandas-dev/pandas/issues/31063',\n  'id': 550560809,\n  'node_id': 'MDU6SXNzdWU1NTA1NjA4MDk=',\n  'number': 31063,\n  'title': 'DataFrame.GroupBy.apply has unexpected returns in some cases',\n  'user': {'login': 'xin-jin',\n   'id': 6195346,\n   'node_id': 'MDQ6VXNlcjYxOTUzNDY=',\n   'avatar_url': 'https://avatars2.githubusercontent.com/u/6195346?v=4',\n   'gravatar_id': '',\n   'url': 'https://api.github.com/users/xin-jin',\n   'html_url': 'https://github.com/xin-jin',\n   'followers_url': 'https://api.github.com/users/xin-jin/followers',\n   'following_url': 'https://api.github.com/users/xin-jin/following{/other_user}',\n   'gists_url': 'https://api.github.com/users/xin-jin/gists{/gist_id}',\n   'starred_url': 'https://api.github.com/users/xin-jin/starred{/owner}{/repo}',\n   'subscriptions_url': 'https://api.github.com/users/xin-jin/subscriptions',\n   'organizations_url': 'https://api.github.com/users/xin-jin/orgs',\n   'repos_url': 'https://api.github.com/users/xin-jin/repos',\n   'events_url': 'https://api.github.com/users/xin-jin/events{/privacy}',\n   'received_events_url': 'https://api.github.com/users/xin-jin/received_events',\n   'type': 'User',\n   'site_admin': False},\n  'labels': [],\n  'state': 'open',\n  'locked': False,\n  'assignee': None,\n  'assignees': [],\n  'milestone': None,\n  'comments': 0,\n  'created_at': '2020-01-16T04:04:48Z',\n  'updated_at': '2020-01-16T04:04:48Z',\n  'closed_at': None,\n  'author_association': 'NONE',\n  'body': \"#### Code Sample, a copy-pastable example if possible\\r\\n\\r\\n```python\\r\\n# Your code here\\r\\ndef agg(a, b):\\r\\n    return a + b\\r\\n\\r\\nx = pd.DataFrame({'A': np.arange(10), 'B': [1] * 10, 'C': np.random.rand(10), 'D': np.random.rand(10)}).set_index(['A', 'B'])\\r\\n\\r\\nx.groupby('B').apply(lambda g: g.C + g.D)\\r\\n```\\r\\n#### Problem description\\r\\nThis returns a DataFrame of shape (1, 10)\\r\\n\\r\\nThis seems to occur when i) The groupby key happens to have a unique value  ii) The apply function takes a DataFrame and returns a Series.\\r\\n\\r\\n#### Expected Output\\r\\n\\r\\nI expect it returns a Series of shape (10, 1)\\r\\n\\r\\n#### Output of ``pd.show_versions()``\\r\\n\\r\\n<details>\\r\\n\\r\\n[paste the output of ``pd.show_versions()`` here below this line]\\r\\n\\r\\n\\r\\nINSTALLED VERSIONS\\r\\n------------------\\r\\ncommit           : None\\r\\npython           : 3.7.4.final.0\\r\\npython-bits      : 64\\r\\nOS               : Linux\\r\\nOS-release       : 4.15.0-72-generic\\r\\nmachine          : x86_64\\r\\nprocessor        : x86_64\\r\\nbyteorder        : little\\r\\nLC_ALL           : None\\r\\nLANG             : en_US.UTF-8\\r\\nLOCALE           : en_US.UTF-8\\r\\n\\r\\npandas           : 0.25.1\\r\\nnumpy            : 1.17.2\\r\\npytz             : 2019.3\\r\\ndateutil         : 2.8.0\\r\\npip              : 19.2.3\\r\\nsetuptools       : 41.4.0\\r\\nCython           : 0.29.13\\r\\npytest           : 5.2.1\\r\\nhypothesis       : None\\r\\nsphinx           : 2.2.0\\r\\nblosc            : None\\r\\nfeather          : None\\r\\nxlsxwriter       : 1.2.1\\r\\nlxml.etree       : 4.4.1\\r\\nhtml5lib         : 1.0.1\\r\\npymysql          : None\\r\\npsycopg2         : None\\r\\njinja2           : 2.10.3\\r\\nIPython          : 7.8.0\\r\\npandas_datareader: 0.8.1\\r\\nbs4              : 4.8.0\\r\\nbottleneck       : 1.2.1\\r\\nfastparquet      : None\\r\\ngcsfs            : None\\r\\nlxml.etree       : 4.4.1\\r\\nmatplotlib       : 3.1.1\\r\\nnumexpr          : 2.7.0\\r\\nodfpy            : None\\r\\nopenpyxl         : 3.0.0\\r\\npandas_gbq       : None\\r\\npyarrow          : 0.13.0\\r\\npytables         : None\\r\\ns3fs             : None\\r\\nscipy            : 1.3.1\\r\\nsqlalchemy       : 1.3.9\\r\\ntables           : 3.5.2\\r\\nxarray           : None\\r\\nxlrd             : 1.2.0\\r\\nxlwt             : 1.3.0\\r\\nxlsxwriter       : 1.2.1\\r\\n\\r\\n</details>\\r\\n\"},\n {'url': 'https://api.github.com/repos/pandas-dev/pandas/issues/31061',\n  'repository_url': 'https://api.github.com/repos/pandas-dev/pandas',\n  'labels_url': 'https://api.github.com/repos/pandas-dev/pandas/issues/31061/labels{/name}',\n  'comments_url': 'https://api.github.com/repos/pandas-dev/pandas/issues/31061/comments',\n  'events_url': 'https://api.github.com/repos/pandas-dev/pandas/issues/31061/events',\n  'html_url': 'https://github.com/pandas-dev/pandas/issues/31061',\n  'id': 550537708,\n  'node_id': 'MDU6SXNzdWU1NTA1Mzc3MDg=',\n  'number': 31061,\n  'title': 'WEB: Broken older versions link in the website',\n  'user': {'login': 'datapythonista',\n   'id': 10058240,\n   'node_id': 'MDQ6VXNlcjEwMDU4MjQw',\n   'avatar_url': 'https://avatars2.githubusercontent.com/u/10058240?v=4',\n   'gravatar_id': '',\n   'url': 'https://api.github.com/users/datapythonista',\n   'html_url': 'https://github.com/datapythonista',\n   'followers_url': 'https://api.github.com/users/datapythonista/followers',\n   'following_url': 'https://api.github.com/users/datapythonista/following{/other_user}',\n   'gists_url': 'https://api.github.com/users/datapythonista/gists{/gist_id}',\n   'starred_url': 'https://api.github.com/users/datapythonista/starred{/owner}{/repo}',\n   'subscriptions_url': 'https://api.github.com/users/datapythonista/subscriptions',\n   'organizations_url': 'https://api.github.com/users/datapythonista/orgs',\n   'repos_url': 'https://api.github.com/users/datapythonista/repos',\n   'events_url': 'https://api.github.com/users/datapythonista/events{/privacy}',\n   'received_events_url': 'https://api.github.com/users/datapythonista/received_events',\n   'type': 'User',\n   'site_admin': False},\n  'labels': [{'id': 219960758,\n    'node_id': 'MDU6TGFiZWwyMTk5NjA3NTg=',\n    'url': 'https://api.github.com/repos/pandas-dev/pandas/labels/Needs%20Discussion',\n    'name': 'Needs Discussion',\n    'color': '207de5',\n    'default': False,\n    'description': None},\n   {'id': 1508144531,\n    'node_id': 'MDU6TGFiZWwxNTA4MTQ0NTMx',\n    'url': 'https://api.github.com/repos/pandas-dev/pandas/labels/Web',\n    'name': 'Web',\n    'color': '23ef97',\n    'default': False,\n    'description': ''}],\n  'state': 'open',\n  'locked': False,\n  'assignee': None,\n  'assignees': [],\n  'milestone': None,\n  'comments': 0,\n  'created_at': '2020-01-16T02:33:33Z',\n  'updated_at': '2020-01-16T02:33:33Z',\n  'closed_at': None,\n  'author_association': 'MEMBER',\n  'body': 'In the top navigation of the website (see pandas.io), in the Docs section, the `Older versions` link is broken.\\r\\n\\r\\nIn #30891 I proposed to just have a single link to the docs for now, so there is no broken link or inconsistencies. But there is no agreement on getting that merged, and some discussion is needed.\\r\\n\\r\\nOpening this issue, so ideas on what to do can be discussed.'}]"
     },
     "metadata": {},
     "execution_count": 8
    }
   ],
   "metadata": {},
   "execution_count": 8
  },
  {
   "source": [
    "data[0]['title']"
   ],
   "cell_type": "code",
   "outputs": [
    {
     "output_type": "execute_result",
     "data": {
      "text/plain": "'Updated years in LICENSE'"
     },
     "metadata": {},
     "execution_count": 10
    }
   ],
   "metadata": {},
   "execution_count": 10
  },
  {
   "source": [
    "import pandas as pd"
   ],
   "cell_type": "code",
   "outputs": [],
   "metadata": {},
   "execution_count": 34
  },
  {
   "source": [
    "issues = pd.DataFrame(data, columns=['number', 'title', 'labels', 'state'])"
   ],
   "cell_type": "code",
   "outputs": [],
   "metadata": {},
   "execution_count": 12
  },
  {
   "source": [
    "issues"
   ],
   "cell_type": "code",
   "outputs": [
    {
     "output_type": "execute_result",
     "data": {
      "text/plain": "    number                                              title  \\\n0    31100                           Updated years in LICENSE   \n1    31099  Backport PR #31091 on branch 1.0.x (CI/TST: fi...   \n2    31098                      CLN: Regular expression clean   \n3    31097       DOC: Replace ggpy with plotnine in ecosystem   \n4    31096  ENH: partial string indexing on non-monotonic ...   \n5    31095              Restore ExtensionIndex.dropna.__doc__   \n6    31094                                  WEB: Styling blog   \n7    31093                                  Pull Request Tips   \n8    31092                               Fix Segfault (maybe)   \n9    31090                           Clean Up Sphinx Warnings   \n10   31089                     CLN: update _simple_new usages   \n11   31088  BUG: df.pivot_table fails when margin is True ...   \n12   31087  DOC: replace ggpy with plotnine on the ecosyst...   \n13   31086  Issue generating a line plot from a Series whe...   \n14   31082                     CLN: __all__ for core/index.py   \n15   31080                       Pandas 0.25.0 breaks np.isin   \n16   31079                    TST: Remove bare pytest.raises    \n17   31077  dict to series turns tuple keys into single st...   \n18   31075  PERF: DataFrame.mean() is slow with datetime c...   \n19   31074  Pandas .plot() on regularly spaced timeseries ...   \n20   31073  The IntervalIndex documentation makes no menti...   \n21   31072  CLN/MAINT: Clean and annotate stata reader and...   \n22   31071                 accept a dictionary in plot colors   \n23   31070        PERF: add shortcut to Timedelta constructor   \n24   31069  Fix DataFrame.info() range summary for Datetim...   \n25   31068  REGR: MultiIndex level names RuntimeError in g...   \n26   31066    DOC: add plotting backends in visualization.rst   \n27   31064  BUG: partial-timestamp slicing near the end of...   \n28   31063  DataFrame.GroupBy.apply has unexpected returns...   \n29   31061     WEB: Broken older versions link in the website   \n\n                                               labels state  \n0                                                  []  open  \n1                                                  []  open  \n2                                                  []  open  \n3                                                  []  open  \n4                                                  []  open  \n5                                                  []  open  \n6   [{'id': 1508144531, 'node_id': 'MDU6TGFiZWwxNT...  open  \n7                                                  []  open  \n8                                                  []  open  \n9                                                  []  open  \n10                                                 []  open  \n11  [{'id': 13098779, 'node_id': 'MDU6TGFiZWwxMzA5...  open  \n12  [{'id': 134699, 'node_id': 'MDU6TGFiZWwxMzQ2OT...  open  \n13  [{'id': 2413328, 'node_id': 'MDU6TGFiZWwyNDEzM...  open  \n14                                                 []  open  \n15                                                 []  open  \n16                                                 []  open  \n17                                                 []  open  \n18  [{'id': 8935311, 'node_id': 'MDU6TGFiZWw4OTM1M...  open  \n19                                                 []  open  \n20                                                 []  open  \n21  [{'id': 104865385, 'node_id': 'MDU6TGFiZWwxMDQ...  open  \n22  [{'id': 2413328, 'node_id': 'MDU6TGFiZWwyNDEzM...  open  \n23  [{'id': 8935311, 'node_id': 'MDU6TGFiZWw4OTM1M...  open  \n24  [{'id': 1218227310, 'node_id': 'MDU6TGFiZWwxMj...  open  \n25  [{'id': 233160, 'node_id': 'MDU6TGFiZWwyMzMxNj...  open  \n26  [{'id': 134699, 'node_id': 'MDU6TGFiZWwxMzQ2OT...  open  \n27  [{'id': 49597148, 'node_id': 'MDU6TGFiZWw0OTU5...  open  \n28                                                 []  open  \n29  [{'id': 219960758, 'node_id': 'MDU6TGFiZWwyMTk...  open  ",
      "text/html": "<div>\n<style scoped>\n    .dataframe tbody tr th:only-of-type {\n        vertical-align: middle;\n    }\n\n    .dataframe tbody tr th {\n        vertical-align: top;\n    }\n\n    .dataframe thead th {\n        text-align: right;\n    }\n</style>\n<table border=\"1\" class=\"dataframe\">\n  <thead>\n    <tr style=\"text-align: right;\">\n      <th></th>\n      <th>number</th>\n      <th>title</th>\n      <th>labels</th>\n      <th>state</th>\n    </tr>\n  </thead>\n  <tbody>\n    <tr>\n      <th>0</th>\n      <td>31100</td>\n      <td>Updated years in LICENSE</td>\n      <td>[]</td>\n      <td>open</td>\n    </tr>\n    <tr>\n      <th>1</th>\n      <td>31099</td>\n      <td>Backport PR #31091 on branch 1.0.x (CI/TST: fi...</td>\n      <td>[]</td>\n      <td>open</td>\n    </tr>\n    <tr>\n      <th>2</th>\n      <td>31098</td>\n      <td>CLN: Regular expression clean</td>\n      <td>[]</td>\n      <td>open</td>\n    </tr>\n    <tr>\n      <th>3</th>\n      <td>31097</td>\n      <td>DOC: Replace ggpy with plotnine in ecosystem</td>\n      <td>[]</td>\n      <td>open</td>\n    </tr>\n    <tr>\n      <th>4</th>\n      <td>31096</td>\n      <td>ENH: partial string indexing on non-monotonic ...</td>\n      <td>[]</td>\n      <td>open</td>\n    </tr>\n    <tr>\n      <th>5</th>\n      <td>31095</td>\n      <td>Restore ExtensionIndex.dropna.__doc__</td>\n      <td>[]</td>\n      <td>open</td>\n    </tr>\n    <tr>\n      <th>6</th>\n      <td>31094</td>\n      <td>WEB: Styling blog</td>\n      <td>[{'id': 1508144531, 'node_id': 'MDU6TGFiZWwxNT...</td>\n      <td>open</td>\n    </tr>\n    <tr>\n      <th>7</th>\n      <td>31093</td>\n      <td>Pull Request Tips</td>\n      <td>[]</td>\n      <td>open</td>\n    </tr>\n    <tr>\n      <th>8</th>\n      <td>31092</td>\n      <td>Fix Segfault (maybe)</td>\n      <td>[]</td>\n      <td>open</td>\n    </tr>\n    <tr>\n      <th>9</th>\n      <td>31090</td>\n      <td>Clean Up Sphinx Warnings</td>\n      <td>[]</td>\n      <td>open</td>\n    </tr>\n    <tr>\n      <th>10</th>\n      <td>31089</td>\n      <td>CLN: update _simple_new usages</td>\n      <td>[]</td>\n      <td>open</td>\n    </tr>\n    <tr>\n      <th>11</th>\n      <td>31088</td>\n      <td>BUG: df.pivot_table fails when margin is True ...</td>\n      <td>[{'id': 13098779, 'node_id': 'MDU6TGFiZWwxMzA5...</td>\n      <td>open</td>\n    </tr>\n    <tr>\n      <th>12</th>\n      <td>31087</td>\n      <td>DOC: replace ggpy with plotnine on the ecosyst...</td>\n      <td>[{'id': 134699, 'node_id': 'MDU6TGFiZWwxMzQ2OT...</td>\n      <td>open</td>\n    </tr>\n    <tr>\n      <th>13</th>\n      <td>31086</td>\n      <td>Issue generating a line plot from a Series whe...</td>\n      <td>[{'id': 2413328, 'node_id': 'MDU6TGFiZWwyNDEzM...</td>\n      <td>open</td>\n    </tr>\n    <tr>\n      <th>14</th>\n      <td>31082</td>\n      <td>CLN: __all__ for core/index.py</td>\n      <td>[]</td>\n      <td>open</td>\n    </tr>\n    <tr>\n      <th>15</th>\n      <td>31080</td>\n      <td>Pandas 0.25.0 breaks np.isin</td>\n      <td>[]</td>\n      <td>open</td>\n    </tr>\n    <tr>\n      <th>16</th>\n      <td>31079</td>\n      <td>TST: Remove bare pytest.raises</td>\n      <td>[]</td>\n      <td>open</td>\n    </tr>\n    <tr>\n      <th>17</th>\n      <td>31077</td>\n      <td>dict to series turns tuple keys into single st...</td>\n      <td>[]</td>\n      <td>open</td>\n    </tr>\n    <tr>\n      <th>18</th>\n      <td>31075</td>\n      <td>PERF: DataFrame.mean() is slow with datetime c...</td>\n      <td>[{'id': 8935311, 'node_id': 'MDU6TGFiZWw4OTM1M...</td>\n      <td>open</td>\n    </tr>\n    <tr>\n      <th>19</th>\n      <td>31074</td>\n      <td>Pandas .plot() on regularly spaced timeseries ...</td>\n      <td>[]</td>\n      <td>open</td>\n    </tr>\n    <tr>\n      <th>20</th>\n      <td>31073</td>\n      <td>The IntervalIndex documentation makes no menti...</td>\n      <td>[]</td>\n      <td>open</td>\n    </tr>\n    <tr>\n      <th>21</th>\n      <td>31072</td>\n      <td>CLN/MAINT: Clean and annotate stata reader and...</td>\n      <td>[{'id': 104865385, 'node_id': 'MDU6TGFiZWwxMDQ...</td>\n      <td>open</td>\n    </tr>\n    <tr>\n      <th>22</th>\n      <td>31071</td>\n      <td>accept a dictionary in plot colors</td>\n      <td>[{'id': 2413328, 'node_id': 'MDU6TGFiZWwyNDEzM...</td>\n      <td>open</td>\n    </tr>\n    <tr>\n      <th>23</th>\n      <td>31070</td>\n      <td>PERF: add shortcut to Timedelta constructor</td>\n      <td>[{'id': 8935311, 'node_id': 'MDU6TGFiZWw4OTM1M...</td>\n      <td>open</td>\n    </tr>\n    <tr>\n      <th>24</th>\n      <td>31069</td>\n      <td>Fix DataFrame.info() range summary for Datetim...</td>\n      <td>[{'id': 1218227310, 'node_id': 'MDU6TGFiZWwxMj...</td>\n      <td>open</td>\n    </tr>\n    <tr>\n      <th>25</th>\n      <td>31068</td>\n      <td>REGR: MultiIndex level names RuntimeError in g...</td>\n      <td>[{'id': 233160, 'node_id': 'MDU6TGFiZWwyMzMxNj...</td>\n      <td>open</td>\n    </tr>\n    <tr>\n      <th>26</th>\n      <td>31066</td>\n      <td>DOC: add plotting backends in visualization.rst</td>\n      <td>[{'id': 134699, 'node_id': 'MDU6TGFiZWwxMzQ2OT...</td>\n      <td>open</td>\n    </tr>\n    <tr>\n      <th>27</th>\n      <td>31064</td>\n      <td>BUG: partial-timestamp slicing near the end of...</td>\n      <td>[{'id': 49597148, 'node_id': 'MDU6TGFiZWw0OTU5...</td>\n      <td>open</td>\n    </tr>\n    <tr>\n      <th>28</th>\n      <td>31063</td>\n      <td>DataFrame.GroupBy.apply has unexpected returns...</td>\n      <td>[]</td>\n      <td>open</td>\n    </tr>\n    <tr>\n      <th>29</th>\n      <td>31061</td>\n      <td>WEB: Broken older versions link in the website</td>\n      <td>[{'id': 219960758, 'node_id': 'MDU6TGFiZWwyMTk...</td>\n      <td>open</td>\n    </tr>\n  </tbody>\n</table>\n</div>"
     },
     "metadata": {},
     "execution_count": 13
    }
   ],
   "metadata": {},
   "execution_count": 13
  },
  {
   "source": [
    "import sqlite3"
   ],
   "cell_type": "code",
   "outputs": [],
   "metadata": {},
   "execution_count": 14
  },
  {
   "source": [
    "query = \"\"\"\n",
    "CREATE TABLE test (a VARCHARS(20), b VARCHARS(20), c REAL, d INTEGER);\n",
    "\"\"\""
   ],
   "cell_type": "code",
   "outputs": [],
   "metadata": {},
   "execution_count": 15
  },
  {
   "source": [
    "con = sqlite3.connect('mydata.sqlite')"
   ],
   "cell_type": "code",
   "outputs": [],
   "metadata": {},
   "execution_count": 17
  },
  {
   "source": [
    "con.execute(query)"
   ],
   "cell_type": "code",
   "outputs": [
    {
     "output_type": "execute_result",
     "data": {
      "text/plain": "<sqlite3.Cursor at 0x1569c5e0>"
     },
     "metadata": {},
     "execution_count": 18
    }
   ],
   "metadata": {},
   "execution_count": 18
  },
  {
   "source": [
    "con.commit()"
   ],
   "cell_type": "code",
   "outputs": [],
   "metadata": {},
   "execution_count": 19
  },
  {
   "source": [
    "data = [('Atlanta', 'Georgia', 1.25, 6), ('Tallahassee', 'Florida', 2.6, 3), ('Sacramento', 'California', 1.7, 5)]"
   ],
   "cell_type": "code",
   "outputs": [],
   "metadata": {},
   "execution_count": 20
  },
  {
   "source": [
    "stmt = \"INSERT INTO test VALUES(?,?,?,?)\""
   ],
   "cell_type": "code",
   "outputs": [],
   "metadata": {},
   "execution_count": 21
  },
  {
   "source": [
    "con.executemany(stmt, data)"
   ],
   "cell_type": "code",
   "outputs": [
    {
     "output_type": "execute_result",
     "data": {
      "text/plain": "<sqlite3.Cursor at 0x1569c1a0>"
     },
     "metadata": {},
     "execution_count": 22
    }
   ],
   "metadata": {},
   "execution_count": 22
  },
  {
   "source": [
    "cursor = con.execute('select * from test')"
   ],
   "cell_type": "code",
   "outputs": [],
   "metadata": {},
   "execution_count": 23
  },
  {
   "source": [
    "rows = cursor.fetchall()"
   ],
   "cell_type": "code",
   "outputs": [],
   "metadata": {},
   "execution_count": 24
  },
  {
   "source": [
    "rows"
   ],
   "cell_type": "code",
   "outputs": [
    {
     "output_type": "execute_result",
     "data": {
      "text/plain": "[('Atlanta', 'Georgia', 1.25, 6),\n ('Tallahassee', 'Florida', 2.6, 3),\n ('Sacramento', 'California', 1.7, 5)]"
     },
     "metadata": {},
     "execution_count": 25
    }
   ],
   "metadata": {},
   "execution_count": 25
  },
  {
   "source": [
    "cursor.description"
   ],
   "cell_type": "code",
   "outputs": [
    {
     "output_type": "execute_result",
     "data": {
      "text/plain": "(('a', None, None, None, None, None, None),\n ('b', None, None, None, None, None, None),\n ('c', None, None, None, None, None, None),\n ('d', None, None, None, None, None, None))"
     },
     "metadata": {},
     "execution_count": 26
    }
   ],
   "metadata": {},
   "execution_count": 26
  },
  {
   "source": [
    "pd.DataFrame(rows, columns=[x[0] for x in cursor.description])"
   ],
   "cell_type": "code",
   "outputs": [
    {
     "output_type": "execute_result",
     "data": {
      "text/plain": "             a           b     c  d\n0      Atlanta     Georgia  1.25  6\n1  Tallahassee     Florida  2.60  3\n2   Sacramento  California  1.70  5",
      "text/html": "<div>\n<style scoped>\n    .dataframe tbody tr th:only-of-type {\n        vertical-align: middle;\n    }\n\n    .dataframe tbody tr th {\n        vertical-align: top;\n    }\n\n    .dataframe thead th {\n        text-align: right;\n    }\n</style>\n<table border=\"1\" class=\"dataframe\">\n  <thead>\n    <tr style=\"text-align: right;\">\n      <th></th>\n      <th>a</th>\n      <th>b</th>\n      <th>c</th>\n      <th>d</th>\n    </tr>\n  </thead>\n  <tbody>\n    <tr>\n      <th>0</th>\n      <td>Atlanta</td>\n      <td>Georgia</td>\n      <td>1.25</td>\n      <td>6</td>\n    </tr>\n    <tr>\n      <th>1</th>\n      <td>Tallahassee</td>\n      <td>Florida</td>\n      <td>2.60</td>\n      <td>3</td>\n    </tr>\n    <tr>\n      <th>2</th>\n      <td>Sacramento</td>\n      <td>California</td>\n      <td>1.70</td>\n      <td>5</td>\n    </tr>\n  </tbody>\n</table>\n</div>"
     },
     "metadata": {},
     "execution_count": 32
    }
   ],
   "metadata": {},
   "execution_count": 32
  },
  {
   "source": [
    "import sqlalchemy as sqla"
   ],
   "cell_type": "code",
   "outputs": [],
   "metadata": {},
   "execution_count": 29
  },
  {
   "source": [
    "db = sqla.create_engine('sqlite:///mydata.sqlite')"
   ],
   "cell_type": "code",
   "outputs": [],
   "metadata": {},
   "execution_count": 30
  },
  {
   "source": [
    "pd.read_sql('select * from test', db)"
   ],
   "cell_type": "code",
   "outputs": [
    {
     "output_type": "execute_result",
     "data": {
      "text/plain": "Empty DataFrame\nColumns: [a, b, c, d]\nIndex: []",
      "text/html": "<div>\n<style scoped>\n    .dataframe tbody tr th:only-of-type {\n        vertical-align: middle;\n    }\n\n    .dataframe tbody tr th {\n        vertical-align: top;\n    }\n\n    .dataframe thead th {\n        text-align: right;\n    }\n</style>\n<table border=\"1\" class=\"dataframe\">\n  <thead>\n    <tr style=\"text-align: right;\">\n      <th></th>\n      <th>a</th>\n      <th>b</th>\n      <th>c</th>\n      <th>d</th>\n    </tr>\n  </thead>\n  <tbody>\n  </tbody>\n</table>\n</div>"
     },
     "metadata": {},
     "execution_count": 31
    }
   ],
   "metadata": {},
   "execution_count": 31
  },
  {
   "source": [
    "import numpy as np"
   ],
   "cell_type": "code",
   "outputs": [],
   "metadata": {},
   "execution_count": 36
  },
  {
   "source": [
    "# 处理缺失数据\n",
    "string_data = pd.Series(['aardvark', 'artichoke', np.nan, 'avocado'])"
   ],
   "cell_type": "code",
   "outputs": [],
   "metadata": {},
   "execution_count": 37
  },
  {
   "source": [
    "string_data"
   ],
   "cell_type": "code",
   "outputs": [
    {
     "output_type": "execute_result",
     "data": {
      "text/plain": "0     aardvark\n1    artichoke\n2          NaN\n3      avocado\ndtype: object"
     },
     "metadata": {},
     "execution_count": 38
    }
   ],
   "metadata": {},
   "execution_count": 38
  },
  {
   "source": [
    "string_data[0]\t=\tNone"
   ],
   "cell_type": "code",
   "outputs": [],
   "metadata": {},
   "execution_count": 40
  },
  {
   "source": [
    "string_data.isnull()"
   ],
   "cell_type": "code",
   "outputs": [
    {
     "output_type": "execute_result",
     "data": {
      "text/plain": "0     True\n1    False\n2     True\n3    False\ndtype: bool"
     },
     "metadata": {},
     "execution_count": 41
    }
   ],
   "metadata": {},
   "execution_count": 41
  },
  {
   "source": [
    "from numpy import nan as NA"
   ],
   "cell_type": "code",
   "outputs": [],
   "metadata": {},
   "execution_count": 42
  },
  {
   "source": [
    "data = pd.Series([1, NA, 3.5, NA, 7])"
   ],
   "cell_type": "code",
   "outputs": [],
   "metadata": {},
   "execution_count": 43
  },
  {
   "source": [
    "data.dropna()"
   ],
   "cell_type": "code",
   "outputs": [
    {
     "output_type": "execute_result",
     "data": {
      "text/plain": "0    1.0\n2    3.5\n4    7.0\ndtype: float64"
     },
     "metadata": {},
     "execution_count": 44
    }
   ],
   "metadata": {},
   "execution_count": 44
  },
  {
   "cell_type": "code",
   "execution_count": null,
   "metadata": {},
   "outputs": [],
   "source": []
  }
 ]
}